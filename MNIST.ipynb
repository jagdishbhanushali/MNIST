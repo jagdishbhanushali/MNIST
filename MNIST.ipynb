{
 "cells": [
  {
   "cell_type": "code",
   "execution_count": 1,
   "metadata": {},
   "outputs": [
    {
     "name": "stderr",
     "output_type": "stream",
     "text": [
      "Using TensorFlow backend.\n"
     ]
    }
   ],
   "source": [
    "import keras\n",
    "from keras.datasets import mnist\n",
    "from keras.models import Sequential\n",
    "from keras.layers import Dense, Dropout, Flatten\n",
    "from keras.layers import Conv2D, MaxPooling2D\n",
    "from keras import backend as K\n",
    "import matplotlib.pyplot as plt\n",
    "from keras.callbacks import ModelCheckpoint"
   ]
  },
  {
   "cell_type": "markdown",
   "metadata": {},
   "source": [
    "## Loading data"
   ]
  },
  {
   "cell_type": "code",
   "execution_count": 2,
   "metadata": {
    "collapsed": true
   },
   "outputs": [],
   "source": [
    "(x_train, y_train), (x_test, y_test) = mnist.load_data()"
   ]
  },
  {
   "cell_type": "code",
   "execution_count": 3,
   "metadata": {},
   "outputs": [
    {
     "name": "stdout",
     "output_type": "stream",
     "text": [
      "(60000, 28, 28) (60000,)\n",
      "(10000, 28, 28) (10000,)\n"
     ]
    }
   ],
   "source": [
    "print(x_train.shape,y_train.shape)\n",
    "print(x_test.shape,y_test.shape)"
   ]
  },
  {
   "cell_type": "code",
   "execution_count": 4,
   "metadata": {},
   "outputs": [
    {
     "data": {
      "image/png": "[encoded data removed]",
      "text/plain": [
       "<matplotlib.figure.Figure at 0xf452860>"
      ]
     },
     "metadata": {},
     "output_type": "display_data"
    }
   ],
   "source": [
    "plt.imshow(x_train[1])\n",
    "plt.show()"
   ]
  },
  {
   "cell_type": "markdown",
   "metadata": {},
   "source": [
    "## Some Constants"
   ]
  },
  {
   "cell_type": "code",
   "execution_count": 5,
   "metadata": {},
   "outputs": [
    {
     "name": "stdout",
     "output_type": "stream",
     "text": [
      "(28, 28, 1)\n"
     ]
    }
   ],
   "source": [
    "_,ROWS,COLS=x_train.shape\n",
    "INPUT_SHAPE = (ROWS,COLS, 1)  #There is only one channel\n",
    "NUM_CLASSES=10\n",
    "BATCH_SIZE=526\n",
    "EPOCHS=20\n",
    "print(INPUT_SHAPE)"
   ]
  },
  {
   "cell_type": "markdown",
   "metadata": {},
   "source": [
    "## Defining Model"
   ]
  },
  {
   "cell_type": "code",
   "execution_count": 23,
   "metadata": {},
   "outputs": [],
   "source": [
    "\n",
    "def basic_model():\n",
    "    checkpoint = ModelCheckpoint(\"model1-weights.hdf5\", monitor='val_loss'\n",
    "                                 , verbose=1, save_best_only=True)\n",
    "    callbacks_list = [checkpoint]\n",
    "\n",
    "    model=Sequential()\n",
    "    model.add(Conv2D(3,(1,1),input_shape=INPUT_SHAPE))\n",
    "    model.add(Conv2D(32,(3,3),activation='relu'))\n",
    "    model.add(Conv2D(64, (3, 3), activation='relu'))\n",
    "    model.add(MaxPooling2D(pool_size=(2, 2)))\n",
    "    model.add(Dropout(0.25))\n",
    "    model.add(Flatten())\n",
    "    model.add(Dense(128, activation='relu'))\n",
    "    model.add(Dropout(0.5))\n",
    "    model.add(Dense(NUM_CLASSES, activation='softmax'))\n",
    "    model.compile(loss='categorical_crossentropy',\n",
    "              optimizer='adam',\n",
    "              metrics=['accuracy'])\n",
    "    model_json = model.to_json()\n",
    "    with open(\"model.json\", \"w\") as json_file:\n",
    "        json_file.write(model_json)\n",
    "    return model,callbacks_list"
   ]
  },
  {
   "cell_type": "markdown",
   "metadata": {},
   "source": [
    "## Normalizing Data"
   ]
  },
  {
   "cell_type": "code",
   "execution_count": 7,
   "metadata": {},
   "outputs": [
    {
     "name": "stdout",
     "output_type": "stream",
     "text": [
      "(60000, 28, 28, 1) (10000, 28, 28, 1)\n"
     ]
    }
   ],
   "source": [
    "x_train=(x_train/255.0)-0.5\n",
    "x_test=(x_test/255.0)-0.5\n",
    "y_train=keras.utils.to_categorical(y_train,NUM_CLASSES)\n",
    "y_test=keras.utils.to_categorical(y_test,NUM_CLASSES)\n",
    "\n",
    "x_train=x_train.reshape(-1,ROWS,COLS,1)\n",
    "x_test=x_test.reshape(-1,ROWS,COLS,1)\n",
    "print(x_train.shape,x_test.shape)"
   ]
  },
  {
   "cell_type": "markdown",
   "metadata": {},
   "source": [
    "## Training"
   ]
  },
  {
   "cell_type": "code",
   "execution_count": 24,
   "metadata": {},
   "outputs": [
    {
     "name": "stdout",
     "output_type": "stream",
     "text": [
      "Train on 48000 samples, validate on 12000 samples\n",
      "Epoch 1/20\n",
      "47866/48000 [============================>.] - ETA: 0s - loss: 0.5732 - acc: 0.8221Epoch 00000: val_loss improved from inf to 0.11919, saving model to model1-weights.hdf5\n",
      "48000/48000 [==============================] - 83s - loss: 0.5720 - acc: 0.8224 - val_loss: 0.1192 - val_acc: 0.9663\n",
      "Epoch 2/20\n",
      "47866/48000 [============================>.] - ETA: 0s - loss: 0.1501 - acc: 0.9567Epoch 00001: val_loss improved from 0.11919 to 0.06735, saving model to model1-weights.hdf5\n",
      "48000/48000 [==============================] - 82s - loss: 0.1501 - acc: 0.9567 - val_loss: 0.0674 - val_acc: 0.9798\n",
      "Epoch 3/20\n",
      "47866/48000 [============================>.] - ETA: 0s - loss: 0.1052 - acc: 0.9696Epoch 00002: val_loss improved from 0.06735 to 0.05847, saving model to model1-weights.hdf5\n",
      "48000/48000 [==============================] - 82s - loss: 0.1053 - acc: 0.9696 - val_loss: 0.0585 - val_acc: 0.9828\n",
      "Epoch 4/20\n",
      "47866/48000 [============================>.] - ETA: 0s - loss: 0.0836 - acc: 0.9757Epoch 00003: val_loss improved from 0.05847 to 0.04881, saving model to model1-weights.hdf5\n",
      "48000/48000 [==============================] - 83s - loss: 0.0837 - acc: 0.9758 - val_loss: 0.0488 - val_acc: 0.9852\n",
      "Epoch 5/20\n",
      "47866/48000 [============================>.] - ETA: 0s - loss: 0.0688 - acc: 0.9797Epoch 00004: val_loss improved from 0.04881 to 0.04413, saving model to model1-weights.hdf5\n",
      "48000/48000 [==============================] - 82s - loss: 0.0690 - acc: 0.9796 - val_loss: 0.0441 - val_acc: 0.9875\n",
      "Epoch 6/20\n",
      "47866/48000 [============================>.] - ETA: 0s - loss: 0.0613 - acc: 0.9814Epoch 00005: val_loss did not improve\n",
      "48000/48000 [==============================] - 83s - loss: 0.0613 - acc: 0.9814 - val_loss: 0.0451 - val_acc: 0.9870\n",
      "Epoch 7/20\n",
      "47866/48000 [============================>.] - ETA: 0s - loss: 0.0526 - acc: 0.9841Epoch 00006: val_loss improved from 0.04413 to 0.04309, saving model to model1-weights.hdf5\n",
      "48000/48000 [==============================] - 87s - loss: 0.0528 - acc: 0.9841 - val_loss: 0.0431 - val_acc: 0.9873\n",
      "Epoch 8/20\n",
      "47866/48000 [============================>.] - ETA: 0s - loss: 0.0500 - acc: 0.9846Epoch 00007: val_loss improved from 0.04309 to 0.03878, saving model to model1-weights.hdf5\n",
      "48000/48000 [==============================] - 86s - loss: 0.0500 - acc: 0.9846 - val_loss: 0.0388 - val_acc: 0.9888\n",
      "Epoch 9/20\n",
      "47866/48000 [============================>.] - ETA: 0s - loss: 0.0451 - acc: 0.9862Epoch 00008: val_loss did not improve\n",
      "48000/48000 [==============================] - 87s - loss: 0.0452 - acc: 0.9862 - val_loss: 0.0412 - val_acc: 0.9880\n",
      "Epoch 10/20\n",
      "47866/48000 [============================>.] - ETA: 0s - loss: 0.0413 - acc: 0.9869Epoch 00009: val_loss improved from 0.03878 to 0.03839, saving model to model1-weights.hdf5\n",
      "48000/48000 [==============================] - 82s - loss: 0.0413 - acc: 0.9869 - val_loss: 0.0384 - val_acc: 0.9892\n",
      "Epoch 11/20\n",
      "47866/48000 [============================>.] - ETA: 0s - loss: 0.0377 - acc: 0.9881Epoch 00010: val_loss improved from 0.03839 to 0.03746, saving model to model1-weights.hdf5\n",
      "48000/48000 [==============================] - 82s - loss: 0.0377 - acc: 0.9881 - val_loss: 0.0375 - val_acc: 0.9895\n",
      "Epoch 12/20\n",
      "47866/48000 [============================>.] - ETA: 0s - loss: 0.0342 - acc: 0.9888Epoch 00011: val_loss did not improve\n",
      "48000/48000 [==============================] - 81s - loss: 0.0343 - acc: 0.9888 - val_loss: 0.0385 - val_acc: 0.9893\n",
      "Epoch 13/20\n",
      "47866/48000 [============================>.] - ETA: 0s - loss: 0.0332 - acc: 0.9887Epoch 00012: val_loss improved from 0.03746 to 0.03559, saving model to model1-weights.hdf5\n",
      "48000/48000 [==============================] - 81s - loss: 0.0331 - acc: 0.9887 - val_loss: 0.0356 - val_acc: 0.9898\n",
      "Epoch 14/20\n",
      "47866/48000 [============================>.] - ETA: 0s - loss: 0.0311 - acc: 0.9898Epoch 00013: val_loss did not improve\n",
      "48000/48000 [==============================] - 81s - loss: 0.0311 - acc: 0.9898 - val_loss: 0.0365 - val_acc: 0.9898\n",
      "Epoch 15/20\n",
      "47866/48000 [============================>.] - ETA: 0s - loss: 0.0290 - acc: 0.9903Epoch 00014: val_loss did not improve\n",
      "48000/48000 [==============================] - 82s - loss: 0.0289 - acc: 0.9904 - val_loss: 0.0356 - val_acc: 0.9902\n",
      "Epoch 16/20\n",
      "47866/48000 [============================>.] - ETA: 0s - loss: 0.0245 - acc: 0.9920Epoch 00015: val_loss did not improve\n",
      "48000/48000 [==============================] - 82s - loss: 0.0245 - acc: 0.9920 - val_loss: 0.0392 - val_acc: 0.9900\n",
      "Epoch 17/20\n",
      "47866/48000 [============================>.] - ETA: 0s - loss: 0.0250 - acc: 0.9917Epoch 00016: val_loss did not improve\n",
      "48000/48000 [==============================] - 81s - loss: 0.0250 - acc: 0.9917 - val_loss: 0.0374 - val_acc: 0.9907\n",
      "Epoch 18/20\n",
      "47866/48000 [============================>.] - ETA: 0s - loss: 0.0225 - acc: 0.9926Epoch 00017: val_loss did not improve\n",
      "48000/48000 [==============================] - 81s - loss: 0.0225 - acc: 0.9926 - val_loss: 0.0357 - val_acc: 0.9897\n",
      "Epoch 19/20\n",
      "47866/48000 [============================>.] - ETA: 0s - loss: 0.0238 - acc: 0.9920Epoch 00018: val_loss did not improve\n",
      "48000/48000 [==============================] - 81s - loss: 0.0238 - acc: 0.9920 - val_loss: 0.0360 - val_acc: 0.9904\n",
      "Epoch 20/20\n",
      "47866/48000 [============================>.] - ETA: 0s - loss: 0.0210 - acc: 0.9930Epoch 00019: val_loss did not improve\n",
      "48000/48000 [==============================] - 81s - loss: 0.0210 - acc: 0.9930 - val_loss: 0.0373 - val_acc: 0.9914\n"
     ]
    }
   ],
   "source": [
    "model,callbacks_list=basic_model()\n",
    "history=model.fit(x_train, y_train,\n",
    "          batch_size=BATCH_SIZE,\n",
    "          epochs=EPOCHS,\n",
    "          callbacks=callbacks_list,\n",
    "          verbose=1,validation_split=0.2)\n"
   ]
  },
  {
   "cell_type": "code",
   "execution_count": 12,
   "metadata": {},
   "outputs": [
    {
     "name": "stdout",
     "output_type": "stream",
     "text": [
      "Test loss: 0.0322406624678\n",
      "Test accuracy: 0.9916\n"
     ]
    }
   ],
   "source": [
    "score = model.evaluate(x_test, y_test)\n",
    "print('Test loss:', score[0])\n",
    "print('Test accuracy:', score[1])"
   ]
  },
  {
   "cell_type": "code",
   "execution_count": 22,
   "metadata": {},
   "outputs": [
    {
     "data": {
      "image/png": "[encoded data removed]",
      "text/plain": [
       "<matplotlib.figure.Figure at 0x11d46c18>"
      ]
     },
     "metadata": {},
     "output_type": "display_data"
    },
    {
     "name": "stdout",
     "output_type": "stream",
     "text": [
      "[  1.03919653e-16   4.14533382e-12   3.98101213e-12   1.84488758e-09\n",
      "   3.89246282e-17   4.45932936e-16   2.51550653e-22   1.00000000e+00\n",
      "   4.38436985e-16   1.66127858e-11]\n"
     ]
    }
   ],
   "source": [
    "# prediction=model.predict(x_test)\n",
    "plt.imshow(x_test[0].reshape(28,28))\n",
    "plt.show()\n",
    "print(prediction[0])"
   ]
  },
  {
   "cell_type": "code",
   "execution_count": null,
   "metadata": {
    "collapsed": true
   },
   "outputs": [],
   "source": []
  }
 ],
 "metadata": {
  "kernelspec": {
   "display_name": "Python 3",
   "language": "python",
   "name": "python3"
  },
  "language_info": {
   "codemirror_mode": {
    "name": "ipython",
    "version": 3
   },
   "file_extension": ".py",
   "mimetype": "text/x-python",
   "name": "python",
   "nbconvert_exporter": "python",
   "pygments_lexer": "ipython3",
   "version": "3.6.1"
  }
 },
 "nbformat": 4,
 "nbformat_minor": 2
}
